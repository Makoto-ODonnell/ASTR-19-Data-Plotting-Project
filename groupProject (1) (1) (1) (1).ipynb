{
 "cells": [
  {
   "cell_type": "code",
   "execution_count": 1,
   "id": "9d0b67fb-f849-489f-ad14-e2f7a1f6429a",
   "metadata": {},
   "outputs": [
    {
     "name": "stderr",
     "output_type": "stream",
     "text": [
      "\u001b[33mWARNING: Package(s) not found: scipy<1.10.0,>=1.6.0\u001b[0m\u001b[33m\n",
      "\u001b[0m"
     ]
    },
    {
     "name": "stdout",
     "output_type": "stream",
     "text": [
      "Requirement already satisfied: scipy<1.10.0,>=1.6.0 in ./.local/lib/python3.10/site-packages (1.9.3)\n",
      "Requirement already satisfied: numpy<1.26.0,>=1.18.5 in ./.local/lib/python3.10/site-packages (from scipy<1.10.0,>=1.6.0) (1.22.4)\n"
     ]
    },
    {
     "name": "stderr",
     "output_type": "stream",
     "text": [
      "\u001b[33mWARNING: Package(s) not found: urllib3<2.0\u001b[0m\u001b[33m\n",
      "\u001b[0m"
     ]
    },
    {
     "name": "stdout",
     "output_type": "stream",
     "text": [
      "Requirement already satisfied: urllib3<2.0 in ./.local/lib/python3.10/site-packages (1.26.20)\n"
     ]
    },
    {
     "name": "stderr",
     "output_type": "stream",
     "text": [
      "\u001b[33mWARNING: Package(s) not found: numpy<1.23\u001b[0m\u001b[33m\n",
      "\u001b[0m"
     ]
    },
    {
     "name": "stdout",
     "output_type": "stream",
     "text": [
      "Requirement already satisfied: numpy<1.23 in ./.local/lib/python3.10/site-packages (1.22.4)\n"
     ]
    },
    {
     "name": "stderr",
     "output_type": "stream",
     "text": [
      "\u001b[33mWARNING: Package(s) not found: tensorflow<2.16\u001b[0m\u001b[33m\n",
      "\u001b[0m"
     ]
    },
    {
     "name": "stdout",
     "output_type": "stream",
     "text": [
      "Requirement already satisfied: tensorflow<2.16 in ./.local/lib/python3.10/site-packages (2.13.1)\n",
      "Requirement already satisfied: absl-py>=1.0.0 in ./.local/lib/python3.10/site-packages (from tensorflow<2.16) (2.1.0)\n",
      "Requirement already satisfied: astunparse>=1.6.0 in ./.local/lib/python3.10/site-packages (from tensorflow<2.16) (1.6.3)\n",
      "Requirement already satisfied: flatbuffers>=23.1.21 in ./.local/lib/python3.10/site-packages (from tensorflow<2.16) (24.3.25)\n",
      "Requirement already satisfied: gast<=0.4.0,>=0.2.1 in ./.local/lib/python3.10/site-packages (from tensorflow<2.16) (0.4.0)\n",
      "Requirement already satisfied: google-pasta>=0.1.1 in ./.local/lib/python3.10/site-packages (from tensorflow<2.16) (0.2.0)\n",
      "Requirement already satisfied: grpcio<2.0,>=1.24.3 in ./.local/lib/python3.10/site-packages (from tensorflow<2.16) (1.68.0)\n",
      "Requirement already satisfied: h5py>=2.9.0 in ./.local/lib/python3.10/site-packages (from tensorflow<2.16) (3.12.1)\n",
      "Requirement already satisfied: keras<2.14,>=2.13.1 in ./.local/lib/python3.10/site-packages (from tensorflow<2.16) (2.13.1)\n",
      "Requirement already satisfied: libclang>=13.0.0 in ./.local/lib/python3.10/site-packages (from tensorflow<2.16) (18.1.1)\n",
      "Requirement already satisfied: numpy<=1.24.3,>=1.22 in ./.local/lib/python3.10/site-packages (from tensorflow<2.16) (1.22.4)\n",
      "Requirement already satisfied: opt-einsum>=2.3.2 in ./.local/lib/python3.10/site-packages (from tensorflow<2.16) (3.4.0)\n",
      "Requirement already satisfied: packaging in ./.local/lib/python3.10/site-packages (from tensorflow<2.16) (24.2)\n",
      "Requirement already satisfied: protobuf!=4.21.0,!=4.21.1,!=4.21.2,!=4.21.3,!=4.21.4,!=4.21.5,<5.0.0dev,>=3.20.3 in ./.local/lib/python3.10/site-packages (from tensorflow<2.16) (4.25.5)\n",
      "Requirement already satisfied: setuptools in ./.local/lib/python3.10/site-packages (from tensorflow<2.16) (75.6.0)\n",
      "Requirement already satisfied: six>=1.12.0 in ./.local/lib/python3.10/site-packages (from tensorflow<2.16) (1.16.0)\n",
      "Requirement already satisfied: tensorboard<2.14,>=2.13 in ./.local/lib/python3.10/site-packages (from tensorflow<2.16) (2.13.0)\n",
      "Requirement already satisfied: tensorflow-estimator<2.14,>=2.13.0 in ./.local/lib/python3.10/site-packages (from tensorflow<2.16) (2.13.0)\n",
      "Requirement already satisfied: termcolor>=1.1.0 in ./.local/lib/python3.10/site-packages (from tensorflow<2.16) (2.5.0)\n",
      "Requirement already satisfied: typing-extensions<4.6.0,>=3.6.6 in ./.local/lib/python3.10/site-packages (from tensorflow<2.16) (4.5.0)\n",
      "Requirement already satisfied: wrapt>=1.11.0 in ./.local/lib/python3.10/site-packages (from tensorflow<2.16) (1.17.0)\n",
      "Requirement already satisfied: tensorflow-io-gcs-filesystem>=0.23.1 in ./.local/lib/python3.10/site-packages (from tensorflow<2.16) (0.37.1)\n",
      "Requirement already satisfied: wheel<1.0,>=0.23.0 in ./.local/lib/python3.10/site-packages (from astunparse>=1.6.0->tensorflow<2.16) (0.45.1)\n",
      "Requirement already satisfied: google-auth<3,>=1.6.3 in ./.local/lib/python3.10/site-packages (from tensorboard<2.14,>=2.13->tensorflow<2.16) (2.36.0)\n",
      "Requirement already satisfied: google-auth-oauthlib<1.1,>=0.5 in ./.local/lib/python3.10/site-packages (from tensorboard<2.14,>=2.13->tensorflow<2.16) (1.0.0)\n",
      "Requirement already satisfied: markdown>=2.6.8 in ./.local/lib/python3.10/site-packages (from tensorboard<2.14,>=2.13->tensorflow<2.16) (3.7)\n",
      "Requirement already satisfied: requests<3,>=2.21.0 in ./.local/lib/python3.10/site-packages (from tensorboard<2.14,>=2.13->tensorflow<2.16) (2.32.3)\n",
      "Requirement already satisfied: tensorboard-data-server<0.8.0,>=0.7.0 in ./.local/lib/python3.10/site-packages (from tensorboard<2.14,>=2.13->tensorflow<2.16) (0.7.2)\n",
      "Requirement already satisfied: werkzeug>=1.0.1 in ./.local/lib/python3.10/site-packages (from tensorboard<2.14,>=2.13->tensorflow<2.16) (3.1.3)\n",
      "Requirement already satisfied: cachetools<6.0,>=2.0.0 in ./.local/lib/python3.10/site-packages (from google-auth<3,>=1.6.3->tensorboard<2.14,>=2.13->tensorflow<2.16) (5.5.0)\n",
      "Requirement already satisfied: pyasn1-modules>=0.2.1 in ./.local/lib/python3.10/site-packages (from google-auth<3,>=1.6.3->tensorboard<2.14,>=2.13->tensorflow<2.16) (0.4.1)\n",
      "Requirement already satisfied: rsa<5,>=3.1.4 in ./.local/lib/python3.10/site-packages (from google-auth<3,>=1.6.3->tensorboard<2.14,>=2.13->tensorflow<2.16) (4.9)\n",
      "Requirement already satisfied: requests-oauthlib>=0.7.0 in ./.local/lib/python3.10/site-packages (from google-auth-oauthlib<1.1,>=0.5->tensorboard<2.14,>=2.13->tensorflow<2.16) (2.0.0)\n",
      "Requirement already satisfied: charset-normalizer<4,>=2 in ./.local/lib/python3.10/site-packages (from requests<3,>=2.21.0->tensorboard<2.14,>=2.13->tensorflow<2.16) (3.4.0)\n",
      "Requirement already satisfied: idna<4,>=2.5 in ./.local/lib/python3.10/site-packages (from requests<3,>=2.21.0->tensorboard<2.14,>=2.13->tensorflow<2.16) (3.10)\n",
      "Requirement already satisfied: urllib3<3,>=1.21.1 in ./.local/lib/python3.10/site-packages (from requests<3,>=2.21.0->tensorboard<2.14,>=2.13->tensorflow<2.16) (1.26.20)\n",
      "Requirement already satisfied: certifi>=2017.4.17 in ./.local/lib/python3.10/site-packages (from requests<3,>=2.21.0->tensorboard<2.14,>=2.13->tensorflow<2.16) (2024.8.30)\n",
      "Requirement already satisfied: MarkupSafe>=2.1.1 in ./.local/lib/python3.10/site-packages (from werkzeug>=1.0.1->tensorboard<2.14,>=2.13->tensorflow<2.16) (3.0.2)\n",
      "Requirement already satisfied: pyasn1<0.7.0,>=0.4.6 in ./.local/lib/python3.10/site-packages (from pyasn1-modules>=0.2.1->google-auth<3,>=1.6.3->tensorboard<2.14,>=2.13->tensorflow<2.16) (0.6.1)\n",
      "Requirement already satisfied: oauthlib>=3.0.0 in ./.local/lib/python3.10/site-packages (from requests-oauthlib>=0.7.0->google-auth-oauthlib<1.1,>=0.5->tensorboard<2.14,>=2.13->tensorflow<2.16) (3.2.2)\n",
      "Defaulting to user installation because normal site-packages is not writeable\n",
      "Requirement already satisfied: pip in ./.local/lib/python3.10/site-packages (24.3.1)\n"
     ]
    }
   ],
   "source": [
    "import subprocess\n",
    "import sys\n",
    "\n",
    "def install_if_needed(package):\n",
    "    try:\n",
    "        #Check if the package is already installed\n",
    "        subprocess.run([sys.executable, '-m', 'pip', 'show', package], check=True, stdout=subprocess.DEVNULL)\n",
    "    except subprocess.CalledProcessError:\n",
    "        #If not installed, install the package\n",
    "        subprocess.run([sys.executable, '-m', 'pip', 'install', package, '--user'], check=True)\n",
    "\n",
    "required_packages = [\n",
    "    'scipy<1.10.0,>=1.6.0',\n",
    "    'urllib3<2.0',\n",
    "    'matplotlib',\n",
    "    'numpy<1.23',\n",
    "    'tensorflow<2.16'\n",
    "]\n",
    "\n",
    "for package in required_packages:\n",
    "    install_if_needed(package)\n",
    "!pip install --upgrade pip"
   ]
  },
  {
   "cell_type": "code",
   "execution_count": 2,
   "id": "8eada31f-c81e-43b7-bb6b-626909489378",
   "metadata": {},
   "outputs": [
    {
     "name": "stderr",
     "output_type": "stream",
     "text": [
      "2024-11-27 17:49:16.714275: I tensorflow/core/util/port.cc:110] oneDNN custom operations are on. You may see slightly different numerical results due to floating-point round-off errors from different computation orders. To turn them off, set the environment variable `TF_ENABLE_ONEDNN_OPTS=0`.\n",
      "2024-11-27 17:49:16.761771: I tensorflow/tsl/cuda/cudart_stub.cc:28] Could not find cuda drivers on your machine, GPU will not be used.\n",
      "2024-11-27 17:49:17.020544: I tensorflow/tsl/cuda/cudart_stub.cc:28] Could not find cuda drivers on your machine, GPU will not be used.\n",
      "2024-11-27 17:49:17.026382: I tensorflow/core/platform/cpu_feature_guard.cc:182] This TensorFlow binary is optimized to use available CPU instructions in performance-critical operations.\n",
      "To enable the following instructions: AVX2 AVX512F AVX512_VNNI FMA, in other operations, rebuild TensorFlow with the appropriate compiler flags.\n",
      "2024-11-27 17:49:19.720380: W tensorflow/compiler/tf2tensorrt/utils/py_utils.cc:38] TF-TRT Warning: Could not find TensorRT\n"
     ]
    },
    {
     "name": "stdout",
     "output_type": "stream",
     "text": [
      "2.13.1\n"
     ]
    }
   ],
   "source": [
    "import tensorflow as tf\n",
    "print(tf.__version__)\n",
    "import matplotlib"
   ]
  },
  {
   "cell_type": "markdown",
   "id": "92f188cb-7eb0-4174-8293-726511f89d54",
   "metadata": {},
   "source": [
    "### compileddayarr -> xarr, height -> yarr"
   ]
  },
  {
   "cell_type": "code",
   "execution_count": 3,
   "id": "65057cb1-4546-4d92-8379-ad290ca270d7",
   "metadata": {
    "tags": []
   },
   "outputs": [
    {
     "name": "stdout",
     "output_type": "stream",
     "text": [
      "(82,)\n",
      "[1, 1, 2, 2, 3, 3, 4, 4, 5, 5, 6, 6, 7, 7, 8, 8, 9, 9, 10, 10, 11, 11, 12, 12, 13, 13, 14, 14, 15, 15, 16, 16, 17, 17, 18, 18, 19, 19, 20, 20, 21, 21, 22, 22, 23, 23, 24, 24, 25, 25, 26, 26, 27, 27, 28, 28, 29, 29, 30, 30, 31, 31, 32, 32, 33, 33, 34, 34, 35, 35, 36, 36, 37, 37, 38, 38, 39, 39, 40, 40, 41, 41]\n",
      " \n",
      "['8:07', '15:37', '8:55', '16:25', '9:45', '17:14', '10:35', '18:00', '11:28', '18:46', '12:22', '19:31', '13:24', '20:16', '3:22', '21:01', '4:07', '21:46', '4:50', '11:58', '5:31', '12:56', '6:08', '13:45', '6:47', '14:25', '7:22', '15:00', '7:59', '15:34', '8:34', '16:08', '9:10', '16:41', '9:45', '17:12', '10:21', '17:45', '10:57', '18:15', '11:38', '18:48', '12:25', '19:20', '2:22', '19:52', '2:58', '20:30', '3:37', '10:44', '4:23', '11:55', '5:15', '12:57', '6:09', '13:50', '7:05', '14:39', '7:58', '15:27', '8:50', '16:10', '9:40', '16:52', '10:30', '17:34', '11:19', '18:12', '12:10', '18:49', '1:32', '19:24', '2:13', '20:00', '2:54', '9:54', '3:39', '11:15', '4:29', '12:22', '5:21', '13:14']\n",
      " \n",
      "[6.57, -0.39, 5.38, -1.74, 5.26, -1.36, 4.13, -1.15, 3.48, -1.61, 2.62, 0.05, 1.83, 1.01, 3.57, 0.73, 4.54, 2.17, 3.76, 2.88, 3.9, 1.92, 4.73, 1.74, 5.66, 0.79, 5.33, -0.04, 5.23, -1.12, 6.67, -0.61, 4.74, -0.93, 4.69, -1.29, 4.2, 0.22, 3.68, 0.26, 2.47, 0.36, 2.59, 0.99, 4.1, 1.87, 3.17, 1.6, 3.71, 3.1, 4.04, 2.49, 4.07, 2.18, 5.93, 0.7, 6.89, 0.21, 6.72, 0.22, 6.77, -1.68, 5.77, -1.32, 4.35, -0.73, 4.23, -0.38, 2.24, -0.61, 3.45, -0.46, 4.13, 1.21, 3.34, 2.58, 3.32, 3.26, 5.21, 2.39, 4.83, 2.41]\n"
     ]
    }
   ],
   "source": [
    "import numpy as np\n",
    "import matplotlib.pyplot as plt\n",
    "\n",
    "data = np.genfromtxt(\"ASTR19_F24_group_project_data.txt\",dtype=[('day','i8'),('time','S5'),('height','f8')])\n",
    "x = np.linspace(0,42,1000)\n",
    "\n",
    "day = []\n",
    "time = []\n",
    "yarr = []\n",
    "\n",
    "print(data.shape)\n",
    "\n",
    "for i in range(82):\n",
    "    day.append(data[i][0])\n",
    "    time.append(data[i][1].decode(\"utf-8\"))\n",
    "    yarr.append(data[i][2])\n",
    "\n",
    "print(day)\n",
    "print(' ')\n",
    "print(time)\n",
    "print(' ')\n",
    "print(yarr)"
   ]
  },
  {
   "cell_type": "code",
   "execution_count": 4,
   "id": "25df9174-f27b-4de0-96ee-b02f1b78a40b",
   "metadata": {},
   "outputs": [
    {
     "name": "stdout",
     "output_type": "stream",
     "text": [
      "[1.3381944444444445, 1.6506944444444445, 2.3715277777777777, 2.6840277777777777, 3.40625, 3.7180555555555554, 4.440972222222222, 4.75, 5.477777777777778, 5.781944444444444, 6.5152777777777775, 6.813194444444444, 7.558333333333334, 7.844444444444444, 8.140277777777778, 8.875694444444445, 9.171527777777778, 9.906944444444445, 10.20138888888889, 10.498611111111112, 11.229861111111111, 11.53888888888889, 12.255555555555556, 12.572916666666666, 13.282638888888888, 13.600694444444445, 14.306944444444444, 14.625, 15.332638888888889, 15.64861111111111, 16.356944444444444, 16.67222222222222, 17.381944444444443, 17.695138888888888, 18.40625, 18.716666666666665, 19.43125, 19.739583333333332, 20.45625, 20.760416666666668, 21.48472222222222, 21.783333333333335, 22.51736111111111, 22.805555555555557, 23.09861111111111, 23.82777777777778, 24.12361111111111, 24.854166666666668, 25.150694444444444, 25.447222222222223, 26.18263888888889, 26.49652777777778, 27.21875, 27.539583333333333, 28.25625, 28.57638888888889, 29.29513888888889, 29.610416666666666, 30.331944444444446, 30.64375, 31.368055555555557, 31.67361111111111, 32.40277777777778, 32.702777777777776, 33.4375, 33.731944444444444, 34.47152777777778, 34.75833333333333, 35.50694444444444, 35.78402777777778, 36.06388888888889, 36.80833333333333, 37.09236111111111, 37.833333333333336, 38.12083333333333, 38.4125, 39.15208333333333, 39.46875, 40.18680555555556, 40.515277777777776, 41.22291666666667, 41.55138888888889]\n"
     ]
    }
   ],
   "source": [
    "##Create an Array to compile the completed list of times\n",
    "xarr = []\n",
    "    \n",
    "for i in range(82):\n",
    "    minutes = time[i] \n",
    "    floatminutes = float(minutes[-2:])\n",
    "    minuteconversion = floatminutes / 60\n",
    "    ##Takes the minutes and converts them to hours by dividing by 60\n",
    "\n",
    "    floathours = float(minutes[:minutes.index(\":\")])\n",
    "    hourconversion = (floathours + minuteconversion)/24\n",
    "    ##Takes the hours, adds them to the converted minute-hours, and divides by 24 to convert to days\n",
    "    \n",
    "    compiledday = day[i] + hourconversion\n",
    "    ##Adds the days to the times\n",
    "    \n",
    "    ##print(f'{day[i]} day(s) and {hourconversion*24} hours, or {compiledday} days.')\n",
    "    \n",
    "    xarr.append(compiledday)\n",
    "    ##Appends the total times to the array\n",
    "print(xarr)"
   ]
  },
  {
   "cell_type": "code",
   "execution_count": 5,
   "id": "533f0068-485f-46f8-a550-05ce6b71dd22",
   "metadata": {},
   "outputs": [],
   "source": [
    "def sinusoid(x,A,f,p):\n",
    "    #return -1*(2.5*A*tf.math.cos(2*A*x)*tf.math.sin(f*x+p)+A*tf.math.cos(2*A*x))/(A) + np.mean(yarr)\n",
    "    return (A*tf.math.cos(A*x))*tf.math.sin(f*x+p) + np.mean(yarr)"
   ]
  },
  {
   "cell_type": "code",
   "execution_count": 6,
   "id": "d8817fc4-9906-4cba-bf3f-a4e2ac68ee4e",
   "metadata": {},
   "outputs": [],
   "source": [
    "#Amplitude\n",
    "A_init = 2.9\n",
    "A_fit = tf.Variable(A_init,name=\"amplitude\")\n",
    "#Frequency\n",
    "f_init = 3.37\n",
    "f_fit = tf.Variable(f_init,name=\"frequency\")\n",
    "#Phase\n",
    "p_init = 6.61\n",
    "p_fit = tf.Variable(p_init,name=\"phase\")\n",
    "#Test"
   ]
  },
  {
   "cell_type": "code",
   "execution_count": 7,
   "id": "073f7615-e70c-4ba4-a79b-b6d62f58cc3e",
   "metadata": {},
   "outputs": [],
   "source": [
    "@tf.function\n",
    "def sinusoidal_model(xarr):\n",
    "    #return -1*(3*A_fit*tf.math.cos(2*A_fit*xarr)*tf.math.sin(f_fit*xarr+p_fit)+A_fit*tf.math.cos(2*A_fit*xarr))/(A_fit) + np.mean(yarr)\n",
    "    return  (A_fit*tf.math.cos(A_fit*xarr))*tf.math.sin(f_fit*xarr+p_fit) + np.mean(yarr)"
   ]
  },
  {
   "cell_type": "code",
   "execution_count": 8,
   "id": "22853208-9e67-463a-a11f-34c922f49911",
   "metadata": {},
   "outputs": [],
   "source": [
    "@tf.function\n",
    "def mse(y_true,y_pred):\n",
    "    return tf.losses.mean_squared_error(y_true,y_pred)"
   ]
  },
  {
   "cell_type": "code",
   "execution_count": 9,
   "id": "240aa8e2-2b6f-402a-a308-5c32da838ab2",
   "metadata": {},
   "outputs": [],
   "source": [
    "#Adam optimizer\n",
    "optimizer = tf.keras.optimizers.Adam(learning_rate=0.001)"
   ]
  },
  {
   "cell_type": "code",
   "execution_count": 10,
   "id": "01c9d1a3-92f1-4552-ba85-44a6703a7a8c",
   "metadata": {
    "tags": []
   },
   "outputs": [
    {
     "name": "stdout",
     "output_type": "stream",
     "text": [
      "Epoch 0 | Loss 2.9398458003997803, A: 2.9000000953674316 f: 3.369999885559082 p: 6.610000133514404\n",
      "Epoch 1000 | Loss 2.880269765853882, A: 2.895756244659424 f: 3.3778903484344482 p: 6.613354206085205\n",
      "Epoch 2000 | Loss 2.880265235900879, A: 2.8957560062408447 f: 3.3778903484344482 p: 6.6133527755737305\n",
      "Epoch 3000 | Loss 2.8802664279937744, A: 2.895756244659424 f: 3.3778903484344482 p: 6.6133527755737305\n",
      "Epoch 4000 | Loss 2.8802685737609863, A: 2.895761013031006 f: 3.3778951168060303 p: 6.613356113433838\n",
      "Epoch 4999 | Loss 2.880268422949667, A: 2.895728349685669 f: 3.3778629302978516 p: 6.613322734832764\n",
      "Done!\n"
     ]
    }
   ],
   "source": [
    "epochs = 5000\n",
    "display_step = 1000\n",
    "\n",
    "for epoch in range(epochs):\n",
    "    \n",
    "    if((epoch%display_step)==0):\n",
    "        pred = sinusoidal_model(xarr)\n",
    "        loss = mse(yarr,pred)\n",
    "        \n",
    "        print(f'Epoch {epoch} | Loss {loss.numpy()}, A: {A_fit.numpy()} f: {f_fit.numpy()} p: {p_fit.numpy()}')\n",
    "        \n",
    "    with tf.GradientTape() as g:\n",
    "        pred = sinusoidal_model(xarr)\n",
    "        loss = mse(pred,yarr)\n",
    "              \n",
    "    gradients = g.gradient(loss, [A_fit,f_fit,p_fit])\n",
    "              \n",
    "    optimizer.apply_gradients(zip(gradients,[A_fit,f_fit,p_fit]))\n",
    "print(f'Epoch {epoch} | Loss {loss.numpy()}, A: {A_fit.numpy()} f: {f_fit.numpy()} p: {p_fit.numpy()}')\n",
    "print(\"Done!\")"
   ]
  },
  {
   "cell_type": "code",
   "execution_count": 11,
   "id": "7cfd7de1-4afe-4be2-89a2-9f557293936e",
   "metadata": {
    "tags": []
   },
   "outputs": [],
   "source": [
    "x_model = np.sort(x)\n",
    "y_model = sinusoid(x_model,A_fit,f_fit,p_fit)\n",
    "y_err = np.full(82,3) # 3 inches, 1/4th of a foot."
   ]
  },
  {
   "cell_type": "code",
   "execution_count": null,
   "id": "d7249ce2-97a7-4840-80fe-ea8fc4414daa",
   "metadata": {
    "tags": []
   },
   "outputs": [
    {
     "data": {
      "text/plain": [
       "<matplotlib.legend.Legend at 0x7ffbe052c6d0>"
      ]
     },
     "execution_count": 12,
     "metadata": {},
     "output_type": "execute_result"
    }
   ],
   "source": [
    "matplotlib.rcParams['font.family'] = ['Family1','serif','Family2']\n",
    "matplotlib.rcParams['text.usetex'] = 'True'\n",
    "\n",
    "f,ax = plt.subplots(1,1,figsize=(21,7))\n",
    "for tick in ax.xaxis.get_ticklabels():\n",
    "    tick.set_fontsize(10)\n",
    "for tick in ax.yaxis.get_ticklabels():\n",
    "    tick.set_fontsize(10)\n",
    "ax.errorbar(xarr,yarr,y_err,fmt='o',label='Data')\n",
    "ax.plot(x_model,y_model,color='magenta',label='Best-fit Model')\n",
    "plt.xticks(np.arange(0, 44, 1))\n",
    "plt.savefig(\"groupProject.jpg\",bbox_inches=\"tight\",facecolor=\"white\")\n",
    "ax.text(0.5,1.2,r'$\\sigma = 1$',color='0', fontsize=12)\n",
    "ax.set_xlabel('x',fontsize=15)\n",
    "ax.set_ylabel('y',fontsize=15)\n",
    "plt.legend(frameon=False,fontsize=20,handletextpad=0)"
   ]
  },
  {
   "cell_type": "markdown",
   "id": "3c92d32b-300e-4a7a-bd3a-c2cb90ffd8ac",
   "metadata": {},
   "source": [
    "### To prevent me from further losing my mind, I have decided to stop at 3. I've ran through multiple different equations and values, and I've spent over 10 hours on this problem alone. Forgive me."
   ]
  },
  {
   "cell_type": "code",
   "execution_count": null,
   "id": "4ae83fad-108f-49ab-ae88-c2a97e20e87a",
   "metadata": {},
   "outputs": [],
   "source": [
    "# xarr = time\n",
    "points = sinusoidal_model(xarr)\n",
    "difference = yarr - points\n",
    "print(difference)\n",
    "print(len(difference))\n",
    "# -----------Histogram------------------\n",
    "width = 0.5\n",
    "histmin = np.floor(min(difference))\n",
    "histmax = np.ceil(max(difference)) + width\n",
    "bins = np.arange(histmin, histmax, width)\n",
    "plt.hist(difference, bins = bins, alpha = 0.5, edgecolor = \"black\")\n",
    "plt.ylabel(\"Y\")\n",
    "plt.xlabel(\"X\")\n",
    "\n",
    "\n",
    "#-------------------------- \n",
    "idx_model = np.argsort(xarr)\n",
    "y_data = np.array(yarr)[idx_model]\n",
    "y_model = sinusoid(x[idx_model],A_fit,f_fit,p_fit)\n",
    "\n",
    "residuals = y_data - y_model\n",
    "residuals = residuals.numpy()\n",
    "print(residuals)"
   ]
  },
  {
   "cell_type": "code",
   "execution_count": null,
   "id": "3453de95-8d53-4ac3-92a0-0747a793f537",
   "metadata": {},
   "outputs": [],
   "source": [
    "matplotlib.rcParams['font.family'] = ['Family1','serif','Family2']\n",
    "matplotlib.rcParams['text.usetex'] = 'True'\n",
    "\n",
    "f,ax = plt.subplots(1,1,figsize=(21,7))\n",
    "for tick in ax.xaxis.get_ticklabels():\n",
    "    tick.set_fontsize(10)\n",
    "for tick in ax.yaxis.get_ticklabels():\n",
    "    tick.set_fontsize(10)\n",
    "ax.errorbar(xarr,residuals,y_err,fmt='o',label='Data')\n",
    "ax.set_xlim([-0.1,44.1])\n",
    "ax.set_ylim([-8.,8])\n",
    "ax.text(0.5,1.2,r'$\\sigma = 1$',color='0', fontsize=12)\n",
    "ax.set_xlabel('x',fontsize=15)\n",
    "ax.set_ylabel('y',fontsize=15)\n",
    "plt.legend(frameon=False,fontsize=20,handletextpad=0)"
   ]
  },
  {
   "cell_type": "code",
   "execution_count": null,
   "id": "d019bdf2-ea49-43c2-abb8-657cc320dbd6",
   "metadata": {},
   "outputs": [],
   "source": [
    "\n",
    "idx_model = np.argsort(xarr)\n",
    "y_data = np.array(yarr)[idx_model]\n",
    "y_model = sinusoid(np.array(xarr)[idx_model],A_fit,f_fit,p_fit)\n",
    "\n",
    "residuals = y_data - y_model\n",
    "residuals = residuals.numpy()"
   ]
  },
  {
   "cell_type": "code",
   "execution_count": null,
   "id": "db653ae8-08cd-4bc7-b4d9-70157a52fa5f",
   "metadata": {},
   "outputs": [],
   "source": [
    "residual_mean = np.mean(residuals)\n",
    "residual_std = np.std(residuals)\n",
    "print(f'Mean Residual is {residual_mean}.')\n",
    "print(f'RMS Residual is {residual_std}.')"
   ]
  },
  {
   "cell_type": "code",
   "execution_count": null,
   "id": "cc12ab9a-5b7f-4a86-9e1b-3aed93788fc5",
   "metadata": {},
   "outputs": [],
   "source": [
    "def gaussian(x,mu,s):\n",
    "    return 1./(2.*np.pi*s**2)**0.5 * np.exp(-0.5*((x-mu)/s)**2)"
   ]
  },
  {
   "cell_type": "code",
   "execution_count": null,
   "id": "049946da-189b-4c2e-8b10-f54062d1920f",
   "metadata": {},
   "outputs": [],
   "source": [
    "matplotlib.rcParams['font.family'] = ['Family1','serif','Family2']\n",
    "matplotlib.rcParams['text.usetex'] = 'True'\n",
    "\n",
    "f,ax = plt.subplots(1,1,figsize=(21,7))\n",
    "for tick in ax.xaxis.get_ticklabels():\n",
    "    tick.set_fontsize(10)\n",
    "for tick in ax.yaxis.get_ticklabels():\n",
    "    tick.set_fontsize(10)\n",
    "    \n",
    "print(len(residuals))\n",
    "ax.hist(residuals,bins=30,range=(-0.75,0.75),alpha=0.5,edgecolor='white',density=True)\n",
    "\n",
    "x_g = np.linspace(-5*residual_std,5*residual_std,1000)\n",
    "ax.plot(x_g,gaussian(x_g,residual_mean,residual_std),color=\"red\")\n",
    "ax.set_xlim([-2,2])\n",
    "ax.text(0.5,1.2,r'$\\sigma = 1$',color='0', fontsize=12)\n",
    "ax.set_xlabel('x',fontsize=15)\n",
    "ax.set_ylabel('N(x)',fontsize=15)"
   ]
  },
  {
   "cell_type": "code",
   "execution_count": null,
   "id": "fb4d32bd-9990-4580-884d-d7e8dc027567",
   "metadata": {},
   "outputs": [],
   "source": []
  },
  {
   "cell_type": "code",
   "execution_count": null,
   "id": "314f9f93-ee52-4b0d-a1a8-bc97dbdb7e5e",
   "metadata": {},
   "outputs": [],
   "source": []
  }
 ],
 "metadata": {
  "kernelspec": {
   "display_name": "ASTR 19",
   "language": "python",
   "name": "astr19"
  },
  "language_info": {
   "codemirror_mode": {
    "name": "ipython",
    "version": 3
   },
   "file_extension": ".py",
   "mimetype": "text/x-python",
   "name": "python",
   "nbconvert_exporter": "python",
   "pygments_lexer": "ipython3",
   "version": "3.10.12"
  }
 },
 "nbformat": 4,
 "nbformat_minor": 5
}
