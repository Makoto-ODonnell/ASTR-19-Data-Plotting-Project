{
 "cells": [
  {
   "cell_type": "code",
   "execution_count": null,
   "id": "97d87b01-a5ce-41dd-ab9b-55babe4fca68",
   "metadata": {},
   "outputs": [],
   "source": []
  },
  {
   "cell_type": "code",
   "execution_count": null,
   "id": "8ab83eb3-0fb2-4702-a9de-140866b77534",
   "metadata": {},
   "outputs": [],
   "source": [
    "\n",
    "%matplotlib inline\n",
    "import matplotlib.pyplot as plt # Kaden\n",
    "import numpy as np # Kaden\n",
    "#sets a random number seed \n",
    "np.random.seed(119)\n",
    "#sets the number of data points \n",
    "npoints = 50\n",
    "\n",
    "x = np.linspace(0, 10., npoints)\n",
    "# sets slope, intercept, and scatter rms\n",
    "m = 2.0\n",
    "b = 1.0\n",
    "sigma = 2.0\n",
    "# gennerates y points \n",
    "y = m*x + b + np.random.normal(scale=sigma,size=npoints)\n",
    "y_err = np.full(npoints,sigma)\n",
    "f = plt.figure(figsize=(7,7))\n",
    "plt.errorbar(x,y,sigma,fmt='o')\n",
    "plt.xlabel('x')\n",
    "plt.ylabel('y')\n"
   ]
  },
  {
   "cell_type": "code",
   "execution_count": 58,
   "id": "24a0f453-ad55-4ebb-8564-96704a86f697",
   "metadata": {},
   "outputs": [
    {
     "name": "stdout",
     "output_type": "stream",
     "text": [
      "(82,)\n",
      "[0.1 0.1 0.1 0.1 0.1 0.1 0.1 0.1 0.1 0.1 0.1 0.1 0.1 0.1 0.1 0.1 0.1 0.1\n",
      " 0.1 0.1 0.1 0.1 0.1 0.1 0.1 0.1 0.1 0.1 0.1 0.1 0.1 0.1 0.1 0.1 0.1 0.1\n",
      " 0.1 0.1 0.1 0.1 0.1]\n",
      "41\n",
      "-0.5087791172119824 0.8625014016367298 3.0955274487264135 4.402681879946231\n",
      "[6.57, 5.38, 5.26, 4.13, 3.48, 2.62, 1.83, 3.57, 4.54, 3.76, 3.9, 4.73, 5.66, 5.33, 5.23, 6.67, 4.74, 4.69, 4.2, 3.68, 2.47, 2.59, 4.1, 3.17, 3.71, 4.04, 4.07, 5.93, 6.89, 6.72, 6.77, 5.77, 4.35, 4.23, 2.24, 3.45, 4.13, 3.34, 3.32, 5.21, 4.83]\n",
      "[1, 2, 3, 4, 5, 6, 7, 8, 9, 10, 11, 12, 13, 14, 15, 16, 17, 18, 19, 20, 21, 22, 23, 24, 25, 26, 27, 28, 29, 30, 31, 32, 33, 34, 35, 36, 37, 38, 39, 40, 41]\n"
     ]
    },
    {
     "data": {
      "text/plain": [
       "Text(0, 0.5, 'height in inches')"
      ]
     },
     "execution_count": 58,
     "metadata": {},
     "output_type": "execute_result"
    },
    {
     "data": {
      "image/png": "[encoded data removed]",
      "text/plain": [
       "<Figure size 640x480 with 1 Axes>"
      ]
     },
     "metadata": {},
     "output_type": "display_data"
    }
   ],
   "source": [
    "import numpy as np\n",
    "data = np.genfromtxt(\"ASTR19_F24_group_project_data.txt\",dtype=[('day','i8'),('time','S5'),('height','f8')])\n",
    "from scipy import optimize \n",
    "\n",
    "\n",
    "\n",
    "day = []\n",
    "time = []\n",
    "height = []\n",
    "\n",
    "day_low = [] # Kaden\n",
    "time_low = [] # Kaden\n",
    "height_low = [] # Kaden\n",
    "day_high = [] # Kaden\n",
    "time_high = [] # Kaden\n",
    "height_high = [] # Kaden\n",
    "\n",
    "print(data.shape)\n",
    "\n",
    "for i in range(82):\n",
    "    day.append(data[i][0])\n",
    "    time.append(data[i][1].decode(\"utf-8\"))\n",
    "    height.append(data[i][2])\n",
    "# -------- Kaden -------\n",
    "for i in range(0, 82, 2):\n",
    "    day_low.append(data[i][0])\n",
    "    time_low.append(data[i][1].decode(\"utf-8\"))\n",
    "    height_low.append(data[i][2])\n",
    "for i in range(1, 83, 2):\n",
    "    day_high.append(data[i][0])\n",
    "    time_high.append(data[i][1].decode(\"utf-8\"))\n",
    "    height_high.append(data[i][2])\n",
    "'''\n",
    "print(day_low)\n",
    "print(' ')\n",
    "print(time_low)\n",
    "print(' ')\n",
    "print(height_low)\n",
    "\n",
    "'''\n",
    "import matplotlib.pyplot as plt\n",
    "#-------------------------------------------------------------\n",
    "#redefine x and y\n",
    "npoints = len(day_low)\n",
    "x = np.linspace(0.,2*np.pi,npoints)\n",
    "\n",
    "#make y a complicated function\n",
    "a = 3.4\n",
    "b = 2.1\n",
    "c = 0.27\n",
    "d = -1.3\n",
    "sig = 0.1\n",
    "\n",
    "y_err = np.full(npoints, sig)\n",
    "print(y_err)\n",
    "print(len(y_err))\n",
    "\n",
    "#import optimize from scipy\n",
    "from scipy import optimize\n",
    "\n",
    "#define the function to fit\n",
    "def f_line(x, a, b, c, d):\n",
    "    return a * np.sin( b*x + c) + d\n",
    "\n",
    "#perform the fit\n",
    "params, params_cov = optimize.curve_fit(f_line, day_low,height_low)\n",
    "\n",
    "a_fit = params [0]\n",
    "b_fit = params[1]\n",
    "c_fit = params [2]\n",
    "d_fit = params [3]\n",
    "\n",
    "print(a_fit,b_fit,c_fit,d_fit)\n",
    "\n",
    "y_fit = a_fit * np.sin(b_fit * x + c_fit) + d_fit\n",
    "\n",
    "plt.errorbar(day_low,height_low,sigma,fmt='o') # Kaden\n",
    "plt.errorbar(day_high,height_high,sigma,fmt='o') # Kaden\n",
    "plt.plot(day_low,y_fit, label='fit')\n",
    "plt.xlabel('x')\n",
    "plt.ylabel('y')\n",
    "plt.legend(loc=0, frameon=False)\n",
    "print(height_low)\n",
    "print(day_low)\n",
    "\n",
    "#---------------------------------------------------------------\n",
    "plt.errorbar(day_low,height_low,sigma,fmt='o') # Kaden\n",
    "plt.scatter(day_high, height_high)\n",
    "plt.xlabel(\"day\")\n",
    "plt.ylabel(\"height in inches\")\n"
   ]
  },
  {
   "cell_type": "code",
   "execution_count": null,
   "id": "c5d1375f-1c57-4fd7-a08b-d20ad90936f6",
   "metadata": {},
   "outputs": [],
   "source": []
  },
  {
   "cell_type": "code",
   "execution_count": null,
   "id": "26bba5d2-a268-4082-9973-8ce487795fcb",
   "metadata": {},
   "outputs": [],
   "source": []
  }
 ],
 "metadata": {
  "kernelspec": {
   "display_name": "ASTR 19",
   "language": "python",
   "name": "astr19"
  },
  "language_info": {
   "codemirror_mode": {
    "name": "ipython",
    "version": 3
   },
   "file_extension": ".py",
   "mimetype": "text/x-python",
   "name": "python",
   "nbconvert_exporter": "python",
   "pygments_lexer": "ipython3",
   "version": "3.10.12"
  }
 },
 "nbformat": 4,
 "nbformat_minor": 5
}
