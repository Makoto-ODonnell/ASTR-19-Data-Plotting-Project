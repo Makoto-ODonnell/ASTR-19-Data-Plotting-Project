{
 "cells": [
  {
   "cell_type": "code",
   "execution_count": 5,
   "id": "65057cb1-4546-4d92-8379-ad290ca270d7",
   "metadata": {},
   "outputs": [
    {
     "name": "stdout",
     "output_type": "stream",
     "text": [
      "(82,)\n",
      "[1, 1, 2, 2, 3, 3, 4, 4, 5, 5, 6, 6, 7, 7, 8, 8, 9, 9, 10, 10, 11, 11, 12, 12, 13, 13, 14, 14, 15, 15, 16, 16, 17, 17, 18, 18, 19, 19, 20, 20, 21, 21, 22, 22, 23, 23, 24, 24, 25, 25, 26, 26, 27, 27, 28, 28, 29, 29, 30, 30, 31, 31, 32, 32, 33, 33, 34, 34, 35, 35, 36, 36, 37, 37, 38, 38, 39, 39, 40, 40, 41, 41]\n",
      " \n",
      "['8:07', '15:37', '8:55', '16:25', '9:45', '17:14', '10:35', '18:00', '11:28', '18:46', '12:22', '19:31', '13:24', '20:16', '3:22', '21:01', '4:07', '21:46', '4:50', '11:58', '5:31', '12:56', '6:08', '13:45', '6:47', '14:25', '7:22', '15:00', '7:59', '15:34', '8:34', '16:08', '9:10', '16:41', '9:45', '17:12', '10:21', '17:45', '10:57', '18:15', '11:38', '18:48', '12:25', '19:20', '2:22', '19:52', '2:58', '20:30', '3:37', '10:44', '4:23', '11:55', '5:15', '12:57', '6:09', '13:50', '7:05', '14:39', '7:58', '15:27', '8:50', '16:10', '9:40', '16:52', '10:30', '17:34', '11:19', '18:12', '12:10', '18:49', '1:32', '19:24', '2:13', '20:00', '2:54', '9:54', '3:39', '11:15', '4:29', '12:22', '5:21', '13:14']\n",
      " \n",
      "[6.57, -0.39, 5.38, -1.74, 5.26, -1.36, 4.13, -1.15, 3.48, -1.61, 2.62, 0.05, 1.83, 1.01, 3.57, 0.73, 4.54, 2.17, 3.76, 2.88, 3.9, 1.92, 4.73, 1.74, 5.66, 0.79, 5.33, -0.04, 5.23, -1.12, 6.67, -0.61, 4.74, -0.93, 4.69, -1.29, 4.2, 0.22, 3.68, 0.26, 2.47, 0.36, 2.59, 0.99, 4.1, 1.87, 3.17, 1.6, 3.71, 3.1, 4.04, 2.49, 4.07, 2.18, 5.93, 0.7, 6.89, 0.21, 6.72, 0.22, 6.77, -1.68, 5.77, -1.32, 4.35, -0.73, 4.23, -0.38, 2.24, -0.61, 3.45, -0.46, 4.13, 1.21, 3.34, 2.58, 3.32, 3.26, 5.21, 2.39, 4.83, 2.41]\n"
     ]
    }
   ],
   "source": [
    "import numpy as np\n",
    "\n",
    "data = np.genfromtxt(\"ASTR19_F24_group_project_data.txt\",dtype=[('day','i8'),('time','S5'),('height','f8')])\n",
    "\n",
    "\n",
    "day = []\n",
    "time = []\n",
    "height = []\n",
    "\n",
    "print(data.shape)\n",
    "\n",
    "for i in range(82):\n",
    "    day.append(data[i][0])\n",
    "    time.append(data[i][1].decode(\"utf-8\"))\n",
    "    height.append(data[i][2])\n",
    "    \n",
    "print(day)\n",
    "print(' ')\n",
    "print(time)\n",
    "print(' ')\n",
    "print(height)"
   ]
  },
  {
   "cell_type": "code",
   "execution_count": null,
   "id": "25df9174-f27b-4de0-96ee-b02f1b78a40b",
   "metadata": {},
   "outputs": [],
   "source": [
    "##Create an Array to compile the completed list of times\n",
    "compileddayarr = []\n",
    "    \n",
    "for i in range(82):\n",
    "    minutes = time[i] \n",
    "    floatminutes = float(minutes[-2:])\n",
    "    minuteconversion = floatminutes / 60\n",
    "    ##Takes the minutes and converts them to hours by dividing by 60\n",
    "\n",
    "    floathours = float(minutes[:minutes.index(\":\")])\n",
    "    hourconversion = (floathours + minuteconversion)/24\n",
    "    ##Takes the hours, adds them to the converted minute-hours, and divides by 24 to convert to days\n",
    "    \n",
    "    compiledday = day[i] + hourconversion\n",
    "    ##Adds the days to the times\n",
    "    \n",
    "    ##print(f'{day[i]} day(s) and {hourconversion*24} hours, or {compiledday} days.')\n",
    "    \n",
    "    compileddayarr.append(compiledday)\n",
    "    ##Appends the total times to the array\n",
    "print(compileddayarr)"
   ]
  },
  {
   "cell_type": "code",
   "execution_count": 46,
   "id": "34886777-7ca5-43a3-8dd2-da9e0e758a83",
   "metadata": {},
   "outputs": [
    {
     "data": {
      "text/plain": [
       "Text(0, 0.5, 'height in inches')"
      ]
     },
     "execution_count": 46,
     "metadata": {},
     "output_type": "execute_result"
    },
    {
     "data": {
      "image/png": "[encoded data removed]",
      "text/plain": [
       "<Figure size 640x480 with 1 Axes>"
      ]
     },
     "metadata": {},
     "output_type": "display_data"
    }
   ],
   "source": [
    "import matplotlib.pyplot as plt\n",
    "\n",
    "plt.scatter(day, height)\n",
    "plt.xlabel(\"day\")\n",
    "plt.ylabel(\"height in inches\")"
   ]
  },
  {
   "cell_type": "code",
   "execution_count": null,
   "id": "322294e0-3311-4326-83da-a5374d3fbdc2",
   "metadata": {},
   "outputs": [],
   "source": []
  }
 ],
 "metadata": {
  "kernelspec": {
   "display_name": "ASTR 19",
   "language": "python",
   "name": "astr19"
  },
  "language_info": {
   "codemirror_mode": {
    "name": "ipython",
    "version": 3
   },
   "file_extension": ".py",
   "mimetype": "text/x-python",
   "name": "python",
   "nbconvert_exporter": "python",
   "pygments_lexer": "ipython3",
   "version": "3.10.12"
  }
 },
 "nbformat": 4,
 "nbformat_minor": 5
}
