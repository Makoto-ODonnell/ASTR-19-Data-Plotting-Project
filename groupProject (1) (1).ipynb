{
 "cells": [
  {
   "cell_type": "code",
   "execution_count": 1,
   "id": "9d0b67fb-f849-489f-ad14-e2f7a1f6429a",
   "metadata": {},
   "outputs": [
    {
     "name": "stdout",
     "output_type": "stream",
     "text": [
      "Collecting scipy<1.10.0,>=1.6.0\n",
      "  Using cached scipy-1.9.3-cp310-cp310-manylinux_2_17_x86_64.manylinux2014_x86_64.whl.metadata (58 kB)\n",
      "Collecting urllib3<2.0\n",
      "  Using cached urllib3-1.26.20-py2.py3-none-any.whl.metadata (50 kB)\n",
      "Collecting matplotlib\n",
      "  Using cached matplotlib-3.9.2-cp310-cp310-manylinux_2_17_x86_64.manylinux2014_x86_64.whl.metadata (11 kB)\n",
      "Collecting numpy<1.23\n",
      "  Using cached numpy-1.22.4-cp310-cp310-manylinux_2_17_x86_64.manylinux2014_x86_64.whl.metadata (2.0 kB)\n",
      "Collecting tensorflow<2.16\n",
      "  Using cached tensorflow-2.15.1-cp310-cp310-manylinux_2_17_x86_64.manylinux2014_x86_64.whl.metadata (4.2 kB)\n",
      "Collecting contourpy>=1.0.1 (from matplotlib)\n",
      "  Using cached contourpy-1.3.1-cp310-cp310-manylinux_2_17_x86_64.manylinux2014_x86_64.whl.metadata (5.4 kB)\n",
      "Collecting cycler>=0.10 (from matplotlib)\n",
      "  Using cached cycler-0.12.1-py3-none-any.whl.metadata (3.8 kB)\n",
      "Collecting fonttools>=4.22.0 (from matplotlib)\n",
      "  Using cached fonttools-4.55.0-cp310-cp310-manylinux_2_17_x86_64.manylinux2014_x86_64.whl.metadata (164 kB)\n",
      "Collecting kiwisolver>=1.3.1 (from matplotlib)\n",
      "  Using cached kiwisolver-1.4.7-cp310-cp310-manylinux_2_12_x86_64.manylinux2010_x86_64.whl.metadata (6.3 kB)\n",
      "INFO: pip is looking at multiple versions of matplotlib to determine which version is compatible with other requirements. This could take a while.\n",
      "Collecting matplotlib\n",
      "  Using cached matplotlib-3.9.1.post1-cp310-cp310-manylinux_2_17_x86_64.manylinux2014_x86_64.whl.metadata (11 kB)\n",
      "  Using cached matplotlib-3.9.0-cp310-cp310-manylinux_2_17_x86_64.manylinux2014_x86_64.whl.metadata (11 kB)\n",
      "  Using cached matplotlib-3.8.4-cp310-cp310-manylinux_2_17_x86_64.manylinux2014_x86_64.whl.metadata (5.8 kB)\n",
      "Collecting packaging>=20.0 (from matplotlib)\n",
      "  Using cached packaging-24.2-py3-none-any.whl.metadata (3.2 kB)\n",
      "Collecting pillow>=8 (from matplotlib)\n",
      "  Using cached pillow-11.0.0-cp310-cp310-manylinux_2_17_x86_64.manylinux2014_x86_64.whl.metadata (9.1 kB)\n",
      "Collecting pyparsing>=2.3.1 (from matplotlib)\n",
      "  Using cached pyparsing-3.2.0-py3-none-any.whl.metadata (5.0 kB)\n",
      "Collecting python-dateutil>=2.7 (from matplotlib)\n",
      "  Using cached python_dateutil-2.9.0.post0-py2.py3-none-any.whl.metadata (8.4 kB)\n",
      "Collecting absl-py>=1.0.0 (from tensorflow<2.16)\n",
      "  Using cached absl_py-2.1.0-py3-none-any.whl.metadata (2.3 kB)\n",
      "Collecting astunparse>=1.6.0 (from tensorflow<2.16)\n",
      "  Using cached astunparse-1.6.3-py2.py3-none-any.whl.metadata (4.4 kB)\n",
      "Collecting flatbuffers>=23.5.26 (from tensorflow<2.16)\n",
      "  Using cached flatbuffers-24.3.25-py2.py3-none-any.whl.metadata (850 bytes)\n",
      "Collecting gast!=0.5.0,!=0.5.1,!=0.5.2,>=0.2.1 (from tensorflow<2.16)\n",
      "  Using cached gast-0.6.0-py3-none-any.whl.metadata (1.3 kB)\n",
      "Collecting google-pasta>=0.1.1 (from tensorflow<2.16)\n",
      "  Using cached google_pasta-0.2.0-py3-none-any.whl.metadata (814 bytes)\n",
      "Collecting h5py>=2.9.0 (from tensorflow<2.16)\n",
      "  Using cached h5py-3.12.1-cp310-cp310-manylinux_2_17_x86_64.manylinux2014_x86_64.whl.metadata (2.5 kB)\n",
      "Collecting libclang>=13.0.0 (from tensorflow<2.16)\n",
      "  Using cached libclang-18.1.1-py2.py3-none-manylinux2010_x86_64.whl.metadata (5.2 kB)\n",
      "Collecting ml-dtypes~=0.3.1 (from tensorflow<2.16)\n",
      "  Using cached ml_dtypes-0.3.2-cp310-cp310-manylinux_2_17_x86_64.manylinux2014_x86_64.whl.metadata (20 kB)\n",
      "INFO: pip is looking at multiple versions of tensorflow to determine which version is compatible with other requirements. This could take a while.\n",
      "Collecting tensorflow<2.16\n",
      "  Using cached tensorflow-2.15.0.post1-cp310-cp310-manylinux_2_17_x86_64.manylinux2014_x86_64.whl.metadata (4.2 kB)\n",
      "Collecting ml-dtypes~=0.2.0 (from tensorflow<2.16)\n",
      "  Using cached ml_dtypes-0.2.0-cp310-cp310-manylinux_2_17_x86_64.manylinux2014_x86_64.whl.metadata (20 kB)\n",
      "Collecting tensorflow<2.16\n",
      "  Using cached tensorflow-2.15.0-cp310-cp310-manylinux_2_17_x86_64.manylinux2014_x86_64.whl.metadata (4.4 kB)\n",
      "  Using cached tensorflow-2.14.1-cp310-cp310-manylinux_2_17_x86_64.manylinux2014_x86_64.whl.metadata (4.1 kB)\n",
      "  Using cached tensorflow-2.14.0-cp310-cp310-manylinux_2_17_x86_64.manylinux2014_x86_64.whl.metadata (4.1 kB)\n",
      "  Using cached tensorflow-2.13.1-cp310-cp310-manylinux_2_17_x86_64.manylinux2014_x86_64.whl.metadata (3.4 kB)\n",
      "Collecting gast<=0.4.0,>=0.2.1 (from tensorflow<2.16)\n",
      "  Using cached gast-0.4.0-py3-none-any.whl.metadata (1.1 kB)\n",
      "Collecting grpcio<2.0,>=1.24.3 (from tensorflow<2.16)\n",
      "  Using cached grpcio-1.68.0-cp310-cp310-manylinux_2_17_x86_64.manylinux2014_x86_64.whl.metadata (3.9 kB)\n",
      "Collecting keras<2.14,>=2.13.1 (from tensorflow<2.16)\n",
      "  Using cached keras-2.13.1-py3-none-any.whl.metadata (2.4 kB)\n",
      "Collecting opt-einsum>=2.3.2 (from tensorflow<2.16)\n",
      "  Using cached opt_einsum-3.4.0-py3-none-any.whl.metadata (6.3 kB)\n",
      "Collecting protobuf!=4.21.0,!=4.21.1,!=4.21.2,!=4.21.3,!=4.21.4,!=4.21.5,<5.0.0dev,>=3.20.3 (from tensorflow<2.16)\n",
      "  Using cached protobuf-4.25.5-cp37-abi3-manylinux2014_x86_64.whl.metadata (541 bytes)\n",
      "Collecting setuptools (from tensorflow<2.16)\n",
      "  Using cached setuptools-75.6.0-py3-none-any.whl.metadata (6.7 kB)\n",
      "Collecting six>=1.12.0 (from tensorflow<2.16)\n",
      "  Using cached six-1.16.0-py2.py3-none-any.whl.metadata (1.8 kB)\n",
      "Collecting tensorboard<2.14,>=2.13 (from tensorflow<2.16)\n",
      "  Using cached tensorboard-2.13.0-py3-none-any.whl.metadata (1.8 kB)\n",
      "Collecting tensorflow-estimator<2.14,>=2.13.0 (from tensorflow<2.16)\n",
      "  Using cached tensorflow_estimator-2.13.0-py2.py3-none-any.whl.metadata (1.3 kB)\n",
      "Collecting termcolor>=1.1.0 (from tensorflow<2.16)\n",
      "  Using cached termcolor-2.5.0-py3-none-any.whl.metadata (6.1 kB)\n",
      "Collecting typing-extensions<4.6.0,>=3.6.6 (from tensorflow<2.16)\n",
      "  Using cached typing_extensions-4.5.0-py3-none-any.whl.metadata (8.5 kB)\n",
      "Collecting wrapt>=1.11.0 (from tensorflow<2.16)\n",
      "  Using cached wrapt-1.17.0-cp310-cp310-manylinux_2_5_x86_64.manylinux1_x86_64.manylinux_2_17_x86_64.manylinux2014_x86_64.whl.metadata (6.4 kB)\n",
      "Collecting tensorflow-io-gcs-filesystem>=0.23.1 (from tensorflow<2.16)\n",
      "  Using cached tensorflow_io_gcs_filesystem-0.37.1-cp310-cp310-manylinux_2_17_x86_64.manylinux2014_x86_64.whl.metadata (14 kB)\n",
      "Collecting wheel<1.0,>=0.23.0 (from astunparse>=1.6.0->tensorflow<2.16)\n",
      "  Using cached wheel-0.45.1-py3-none-any.whl.metadata (2.3 kB)\n",
      "INFO: pip is looking at multiple versions of contourpy to determine which version is compatible with other requirements. This could take a while.\n",
      "Collecting contourpy>=1.0.1 (from matplotlib)\n",
      "  Using cached contourpy-1.3.0-cp310-cp310-manylinux_2_17_x86_64.manylinux2014_x86_64.whl.metadata (5.4 kB)\n",
      "  Using cached contourpy-1.2.1-cp310-cp310-manylinux_2_17_x86_64.manylinux2014_x86_64.whl.metadata (5.8 kB)\n",
      "Collecting google-auth<3,>=1.6.3 (from tensorboard<2.14,>=2.13->tensorflow<2.16)\n",
      "  Using cached google_auth-2.36.0-py2.py3-none-any.whl.metadata (4.7 kB)\n",
      "Collecting google-auth-oauthlib<1.1,>=0.5 (from tensorboard<2.14,>=2.13->tensorflow<2.16)\n",
      "  Using cached google_auth_oauthlib-1.0.0-py2.py3-none-any.whl.metadata (2.7 kB)\n",
      "Collecting markdown>=2.6.8 (from tensorboard<2.14,>=2.13->tensorflow<2.16)\n",
      "  Using cached Markdown-3.7-py3-none-any.whl.metadata (7.0 kB)\n",
      "Collecting requests<3,>=2.21.0 (from tensorboard<2.14,>=2.13->tensorflow<2.16)\n",
      "  Using cached requests-2.32.3-py3-none-any.whl.metadata (4.6 kB)\n",
      "Collecting tensorboard-data-server<0.8.0,>=0.7.0 (from tensorboard<2.14,>=2.13->tensorflow<2.16)\n",
      "  Using cached tensorboard_data_server-0.7.2-py3-none-any.whl.metadata (1.1 kB)\n",
      "Collecting werkzeug>=1.0.1 (from tensorboard<2.14,>=2.13->tensorflow<2.16)\n",
      "  Using cached werkzeug-3.1.3-py3-none-any.whl.metadata (3.7 kB)\n",
      "Collecting cachetools<6.0,>=2.0.0 (from google-auth<3,>=1.6.3->tensorboard<2.14,>=2.13->tensorflow<2.16)\n",
      "  Using cached cachetools-5.5.0-py3-none-any.whl.metadata (5.3 kB)\n",
      "Collecting pyasn1-modules>=0.2.1 (from google-auth<3,>=1.6.3->tensorboard<2.14,>=2.13->tensorflow<2.16)\n",
      "  Using cached pyasn1_modules-0.4.1-py3-none-any.whl.metadata (3.5 kB)\n",
      "Collecting rsa<5,>=3.1.4 (from google-auth<3,>=1.6.3->tensorboard<2.14,>=2.13->tensorflow<2.16)\n",
      "  Using cached rsa-4.9-py3-none-any.whl.metadata (4.2 kB)\n",
      "Collecting requests-oauthlib>=0.7.0 (from google-auth-oauthlib<1.1,>=0.5->tensorboard<2.14,>=2.13->tensorflow<2.16)\n",
      "  Using cached requests_oauthlib-2.0.0-py2.py3-none-any.whl.metadata (11 kB)\n",
      "Collecting charset-normalizer<4,>=2 (from requests<3,>=2.21.0->tensorboard<2.14,>=2.13->tensorflow<2.16)\n",
      "  Using cached charset_normalizer-3.4.0-cp310-cp310-manylinux_2_17_x86_64.manylinux2014_x86_64.whl.metadata (34 kB)\n",
      "Collecting idna<4,>=2.5 (from requests<3,>=2.21.0->tensorboard<2.14,>=2.13->tensorflow<2.16)\n",
      "  Using cached idna-3.10-py3-none-any.whl.metadata (10 kB)\n",
      "Collecting certifi>=2017.4.17 (from requests<3,>=2.21.0->tensorboard<2.14,>=2.13->tensorflow<2.16)\n",
      "  Using cached certifi-2024.8.30-py3-none-any.whl.metadata (2.2 kB)\n",
      "Collecting MarkupSafe>=2.1.1 (from werkzeug>=1.0.1->tensorboard<2.14,>=2.13->tensorflow<2.16)\n",
      "  Using cached MarkupSafe-3.0.2-cp310-cp310-manylinux_2_17_x86_64.manylinux2014_x86_64.whl.metadata (4.0 kB)\n",
      "Collecting pyasn1<0.7.0,>=0.4.6 (from pyasn1-modules>=0.2.1->google-auth<3,>=1.6.3->tensorboard<2.14,>=2.13->tensorflow<2.16)\n",
      "  Using cached pyasn1-0.6.1-py3-none-any.whl.metadata (8.4 kB)\n",
      "Collecting oauthlib>=3.0.0 (from requests-oauthlib>=0.7.0->google-auth-oauthlib<1.1,>=0.5->tensorboard<2.14,>=2.13->tensorflow<2.16)\n",
      "  Using cached oauthlib-3.2.2-py3-none-any.whl.metadata (7.5 kB)\n",
      "Using cached scipy-1.9.3-cp310-cp310-manylinux_2_17_x86_64.manylinux2014_x86_64.whl (33.7 MB)\n",
      "Using cached urllib3-1.26.20-py2.py3-none-any.whl (144 kB)\n",
      "Using cached matplotlib-3.8.4-cp310-cp310-manylinux_2_17_x86_64.manylinux2014_x86_64.whl (11.6 MB)\n",
      "Using cached numpy-1.22.4-cp310-cp310-manylinux_2_17_x86_64.manylinux2014_x86_64.whl (16.8 MB)\n",
      "Downloading tensorflow-2.13.1-cp310-cp310-manylinux_2_17_x86_64.manylinux2014_x86_64.whl (479.7 MB)\n",
      "\u001b[2K   \u001b[91m━━━━━━━━━━━━━━━━━━━━━━━━━━━━━━━━━━━━\u001b[0m\u001b[91m╸\u001b[0m\u001b[90m━━━\u001b[0m \u001b[32m439.7/479.7 MB\u001b[0m \u001b[31m20.5 MB/s\u001b[0m eta \u001b[36m0:00:02\u001b[0m\u001b[31mERROR: Could not install packages due to an OSError: [Errno 28] No space left on device\n",
      "\u001b[0m\u001b[31m\n",
      "\u001b[2K   \u001b[91m━━━━━━━━━━━━━━━━━━━━━━━━━━━━━━━━━━━━\u001b[0m\u001b[91m╸\u001b[0m\u001b[90m━━━\u001b[0m \u001b[32m439.7/479.7 MB\u001b[0m \u001b[31m20.3 MB/s\u001b[0m eta \u001b[36m0:00:02\u001b[0m\n",
      "\u001b[?25h\u001b[33mWARNING: There was an error checking the latest version of pip.\u001b[0m\u001b[33m\n",
      "\u001b[0m"
     ]
    }
   ],
   "source": [
    "! python3 -m pip install 'scipy<1.10.0,>=1.6.0' 'urllib3<2.0' matplotlib 'numpy<1.23' 'tensorflow<2.16' --user --force-reinstall"
   ]
  },
  {
   "cell_type": "code",
   "execution_count": 2,
   "id": "8eada31f-c81e-43b7-bb6b-626909489378",
   "metadata": {},
   "outputs": [
    {
     "name": "stderr",
     "output_type": "stream",
     "text": [
      "2024-11-27 12:19:17.278005: I tensorflow/core/util/port.cc:113] oneDNN custom operations are on. You may see slightly different numerical results due to floating-point round-off errors from different computation orders. To turn them off, set the environment variable `TF_ENABLE_ONEDNN_OPTS=0`.\n",
      "2024-11-27 12:19:17.804137: I tensorflow/core/platform/cpu_feature_guard.cc:210] This TensorFlow binary is optimized to use available CPU instructions in performance-critical operations.\n",
      "To enable the following instructions: AVX2 AVX512F AVX512_VNNI FMA, in other operations, rebuild TensorFlow with the appropriate compiler flags.\n",
      "2024-11-27 12:19:20.187578: W tensorflow/compiler/tf2tensorrt/utils/py_utils.cc:38] TF-TRT Warning: Could not find TensorRT\n"
     ]
    },
    {
     "name": "stdout",
     "output_type": "stream",
     "text": [
      "2.16.1\n"
     ]
    }
   ],
   "source": [
    "import tensorflow as tf\n",
    "print(tf.__version__)\n",
    "import matplotlib"
   ]
  },
  {
   "cell_type": "markdown",
   "id": "92f188cb-7eb0-4174-8293-726511f89d54",
   "metadata": {},
   "source": [
    "### compileddayarr -> xarr, height -> yarr"
   ]
  },
  {
   "cell_type": "code",
   "execution_count": 3,
   "id": "65057cb1-4546-4d92-8379-ad290ca270d7",
   "metadata": {
    "tags": []
   },
   "outputs": [
    {
     "name": "stdout",
     "output_type": "stream",
     "text": [
      "(82,)\n",
      "[1, 1, 2, 2, 3, 3, 4, 4, 5, 5, 6, 6, 7, 7, 8, 8, 9, 9, 10, 10, 11, 11, 12, 12, 13, 13, 14, 14, 15, 15, 16, 16, 17, 17, 18, 18, 19, 19, 20, 20, 21, 21, 22, 22, 23, 23, 24, 24, 25, 25, 26, 26, 27, 27, 28, 28, 29, 29, 30, 30, 31, 31, 32, 32, 33, 33, 34, 34, 35, 35, 36, 36, 37, 37, 38, 38, 39, 39, 40, 40, 41, 41]\n",
      " \n",
      "['8:07', '15:37', '8:55', '16:25', '9:45', '17:14', '10:35', '18:00', '11:28', '18:46', '12:22', '19:31', '13:24', '20:16', '3:22', '21:01', '4:07', '21:46', '4:50', '11:58', '5:31', '12:56', '6:08', '13:45', '6:47', '14:25', '7:22', '15:00', '7:59', '15:34', '8:34', '16:08', '9:10', '16:41', '9:45', '17:12', '10:21', '17:45', '10:57', '18:15', '11:38', '18:48', '12:25', '19:20', '2:22', '19:52', '2:58', '20:30', '3:37', '10:44', '4:23', '11:55', '5:15', '12:57', '6:09', '13:50', '7:05', '14:39', '7:58', '15:27', '8:50', '16:10', '9:40', '16:52', '10:30', '17:34', '11:19', '18:12', '12:10', '18:49', '1:32', '19:24', '2:13', '20:00', '2:54', '9:54', '3:39', '11:15', '4:29', '12:22', '5:21', '13:14']\n",
      " \n",
      "[6.57, -0.39, 5.38, -1.74, 5.26, -1.36, 4.13, -1.15, 3.48, -1.61, 2.62, 0.05, 1.83, 1.01, 3.57, 0.73, 4.54, 2.17, 3.76, 2.88, 3.9, 1.92, 4.73, 1.74, 5.66, 0.79, 5.33, -0.04, 5.23, -1.12, 6.67, -0.61, 4.74, -0.93, 4.69, -1.29, 4.2, 0.22, 3.68, 0.26, 2.47, 0.36, 2.59, 0.99, 4.1, 1.87, 3.17, 1.6, 3.71, 3.1, 4.04, 2.49, 4.07, 2.18, 5.93, 0.7, 6.89, 0.21, 6.72, 0.22, 6.77, -1.68, 5.77, -1.32, 4.35, -0.73, 4.23, -0.38, 2.24, -0.61, 3.45, -0.46, 4.13, 1.21, 3.34, 2.58, 3.32, 3.26, 5.21, 2.39, 4.83, 2.41]\n"
     ]
    }
   ],
   "source": [
    "import numpy as np\n",
    "import matplotlib.pyplot as plt\n",
    "\n",
    "data = np.genfromtxt(\"ASTR19_F24_group_project_data.txt\",dtype=[('day','i8'),('time','S5'),('height','f8')])\n",
    "x = np.linspace(0,42,1000)\n",
    "\n",
    "day = []\n",
    "time = []\n",
    "yarr = []\n",
    "\n",
    "print(data.shape)\n",
    "\n",
    "for i in range(82):\n",
    "    day.append(data[i][0])\n",
    "    time.append(data[i][1].decode(\"utf-8\"))\n",
    "    yarr.append(data[i][2])\n",
    "\n",
    "print(day)\n",
    "print(' ')\n",
    "print(time)\n",
    "print(' ')\n",
    "print(yarr)"
   ]
  },
  {
   "cell_type": "code",
   "execution_count": 4,
   "id": "25df9174-f27b-4de0-96ee-b02f1b78a40b",
   "metadata": {},
   "outputs": [
    {
     "name": "stdout",
     "output_type": "stream",
     "text": [
      "[1.3381944444444445, 1.6506944444444445, 2.3715277777777777, 2.6840277777777777, 3.40625, 3.7180555555555554, 4.440972222222222, 4.75, 5.477777777777778, 5.781944444444444, 6.5152777777777775, 6.813194444444444, 7.558333333333334, 7.844444444444444, 8.140277777777778, 8.875694444444445, 9.171527777777778, 9.906944444444445, 10.20138888888889, 10.498611111111112, 11.229861111111111, 11.53888888888889, 12.255555555555556, 12.572916666666666, 13.282638888888888, 13.600694444444445, 14.306944444444444, 14.625, 15.332638888888889, 15.64861111111111, 16.356944444444444, 16.67222222222222, 17.381944444444443, 17.695138888888888, 18.40625, 18.716666666666665, 19.43125, 19.739583333333332, 20.45625, 20.760416666666668, 21.48472222222222, 21.783333333333335, 22.51736111111111, 22.805555555555557, 23.09861111111111, 23.82777777777778, 24.12361111111111, 24.854166666666668, 25.150694444444444, 25.447222222222223, 26.18263888888889, 26.49652777777778, 27.21875, 27.539583333333333, 28.25625, 28.57638888888889, 29.29513888888889, 29.610416666666666, 30.331944444444446, 30.64375, 31.368055555555557, 31.67361111111111, 32.40277777777778, 32.702777777777776, 33.4375, 33.731944444444444, 34.47152777777778, 34.75833333333333, 35.50694444444444, 35.78402777777778, 36.06388888888889, 36.80833333333333, 37.09236111111111, 37.833333333333336, 38.12083333333333, 38.4125, 39.15208333333333, 39.46875, 40.18680555555556, 40.515277777777776, 41.22291666666667, 41.55138888888889]\n"
     ]
    }
   ],
   "source": [
    "##Create an Array to compile the completed list of times\n",
    "xarr = []\n",
    "    \n",
    "for i in range(82):\n",
    "    minutes = time[i] \n",
    "    floatminutes = float(minutes[-2:])\n",
    "    minuteconversion = floatminutes / 60\n",
    "    ##Takes the minutes and converts them to hours by dividing by 60\n",
    "\n",
    "    floathours = float(minutes[:minutes.index(\":\")])\n",
    "    hourconversion = (floathours + minuteconversion)/24\n",
    "    ##Takes the hours, adds them to the converted minute-hours, and divides by 24 to convert to days\n",
    "    \n",
    "    compiledday = day[i] + hourconversion\n",
    "    ##Adds the days to the times\n",
    "    \n",
    "    ##print(f'{day[i]} day(s) and {hourconversion*24} hours, or {compiledday} days.')\n",
    "    \n",
    "    xarr.append(compiledday)\n",
    "    ##Appends the total times to the array\n",
    "print(xarr)"
   ]
  },
  {
   "cell_type": "code",
   "execution_count": 5,
   "id": "533f0068-485f-46f8-a550-05ce6b71dd22",
   "metadata": {},
   "outputs": [],
   "source": [
    "def sinusoid(x,A,f,p):\n",
    "    #return -1*(2.5*A*tf.math.cos(2*A*x)*tf.math.sin(f*x+p)+A*tf.math.cos(2*A*x))/(A) + np.mean(yarr)\n",
    "    return (A*tf.math.cos(A*x))*tf.math.sin(f*x+p) + np.mean(yarr)"
   ]
  },
  {
   "cell_type": "code",
   "execution_count": 6,
   "id": "d8817fc4-9906-4cba-bf3f-a4e2ac68ee4e",
   "metadata": {},
   "outputs": [],
   "source": [
    "#Amplitude\n",
    "A_init = 2.9\n",
    "A_fit = tf.Variable(A_init,name=\"amplitude\")\n",
    "#Frequency\n",
    "f_init = 3.37\n",
    "f_fit = tf.Variable(f_init,name=\"frequency\")\n",
    "#Phase\n",
    "p_init = 6.61\n",
    "p_fit = tf.Variable(p_init,name=\"phase\")\n",
    "#Test"
   ]
  },
  {
   "cell_type": "code",
   "execution_count": 7,
   "id": "073f7615-e70c-4ba4-a79b-b6d62f58cc3e",
   "metadata": {},
   "outputs": [],
   "source": [
    "@tf.function\n",
    "def sinusoidal_model(xarr):\n",
    "    #return -1*(3*A_fit*tf.math.cos(2*A_fit*xarr)*tf.math.sin(f_fit*xarr+p_fit)+A_fit*tf.math.cos(2*A_fit*xarr))/(A_fit) + np.mean(yarr)\n",
    "    return  (A_fit*tf.math.cos(A_fit*xarr))*tf.math.sin(f_fit*xarr+p_fit) + np.mean(yarr)"
   ]
  },
  {
   "cell_type": "code",
   "execution_count": 8,
   "id": "22853208-9e67-463a-a11f-34c922f49911",
   "metadata": {},
   "outputs": [],
   "source": [
    "@tf.function\n",
    "def mse(y_true,y_pred):\n",
    "    return tf.losses.mean_squared_error(y_true,y_pred)"
   ]
  },
  {
   "cell_type": "code",
   "execution_count": 9,
   "id": "240aa8e2-2b6f-402a-a308-5c32da838ab2",
   "metadata": {},
   "outputs": [],
   "source": [
    "#Adam optimizer\n",
    "optimizer = tf.keras.optimizers.Adam(learning_rate=0.001)"
   ]
  },
  {
   "cell_type": "code",
   "execution_count": 10,
   "id": "01c9d1a3-92f1-4552-ba85-44a6703a7a8c",
   "metadata": {
    "tags": []
   },
   "outputs": [
    {
     "ename": "AttributeError",
     "evalue": "in user code:\n\n    File \"/tmp/ipykernel_75854/2953848132.py\", line 3, in mse  *\n        return tf.losses.mean_squared_error(y_true,y_pred)\n\n    AttributeError: module 'keras._tf_keras.keras.losses' has no attribute 'mean_squared_error'\n",
     "output_type": "error",
     "traceback": [
      "\u001b[0;31m---------------------------------------------------------------------------\u001b[0m",
      "\u001b[0;31mAttributeError\u001b[0m                            Traceback (most recent call last)",
      "Cell \u001b[0;32mIn[10], line 8\u001b[0m\n\u001b[1;32m      6\u001b[0m \u001b[38;5;28;01mif\u001b[39;00m((epoch\u001b[38;5;241m%\u001b[39mdisplay_step)\u001b[38;5;241m==\u001b[39m\u001b[38;5;241m0\u001b[39m):\n\u001b[1;32m      7\u001b[0m     pred \u001b[38;5;241m=\u001b[39m sinusoidal_model(xarr)\n\u001b[0;32m----> 8\u001b[0m     loss \u001b[38;5;241m=\u001b[39m \u001b[43mmse\u001b[49m\u001b[43m(\u001b[49m\u001b[43myarr\u001b[49m\u001b[43m,\u001b[49m\u001b[43mpred\u001b[49m\u001b[43m)\u001b[49m\n\u001b[1;32m     10\u001b[0m     \u001b[38;5;28mprint\u001b[39m(\u001b[38;5;124mf\u001b[39m\u001b[38;5;124m'\u001b[39m\u001b[38;5;124mEpoch \u001b[39m\u001b[38;5;132;01m{\u001b[39;00mepoch\u001b[38;5;132;01m}\u001b[39;00m\u001b[38;5;124m | Loss \u001b[39m\u001b[38;5;132;01m{\u001b[39;00mloss\u001b[38;5;241m.\u001b[39mnumpy()\u001b[38;5;132;01m}\u001b[39;00m\u001b[38;5;124m, A: \u001b[39m\u001b[38;5;132;01m{\u001b[39;00mA_fit\u001b[38;5;241m.\u001b[39mnumpy()\u001b[38;5;132;01m}\u001b[39;00m\u001b[38;5;124m f: \u001b[39m\u001b[38;5;132;01m{\u001b[39;00mf_fit\u001b[38;5;241m.\u001b[39mnumpy()\u001b[38;5;132;01m}\u001b[39;00m\u001b[38;5;124m p: \u001b[39m\u001b[38;5;132;01m{\u001b[39;00mp_fit\u001b[38;5;241m.\u001b[39mnumpy()\u001b[38;5;132;01m}\u001b[39;00m\u001b[38;5;124m'\u001b[39m)\n\u001b[1;32m     12\u001b[0m \u001b[38;5;28;01mwith\u001b[39;00m tf\u001b[38;5;241m.\u001b[39mGradientTape() \u001b[38;5;28;01mas\u001b[39;00m g:\n",
      "File \u001b[0;32m/cm/shared/apps/python/3.10.12/lib/python3.10/site-packages/tensorflow/python/util/traceback_utils.py:153\u001b[0m, in \u001b[0;36mfilter_traceback.<locals>.error_handler\u001b[0;34m(*args, **kwargs)\u001b[0m\n\u001b[1;32m    151\u001b[0m \u001b[38;5;28;01mexcept\u001b[39;00m \u001b[38;5;167;01mException\u001b[39;00m \u001b[38;5;28;01mas\u001b[39;00m e:\n\u001b[1;32m    152\u001b[0m   filtered_tb \u001b[38;5;241m=\u001b[39m _process_traceback_frames(e\u001b[38;5;241m.\u001b[39m__traceback__)\n\u001b[0;32m--> 153\u001b[0m   \u001b[38;5;28;01mraise\u001b[39;00m e\u001b[38;5;241m.\u001b[39mwith_traceback(filtered_tb) \u001b[38;5;28;01mfrom\u001b[39;00m \u001b[38;5;28;01mNone\u001b[39;00m\n\u001b[1;32m    154\u001b[0m \u001b[38;5;28;01mfinally\u001b[39;00m:\n\u001b[1;32m    155\u001b[0m   \u001b[38;5;28;01mdel\u001b[39;00m filtered_tb\n",
      "File \u001b[0;32m/tmp/__autograph_generated_fileslo4ax0j.py:12\u001b[0m, in \u001b[0;36mouter_factory.<locals>.inner_factory.<locals>.tf__mse\u001b[0;34m(y_true, y_pred)\u001b[0m\n\u001b[1;32m     10\u001b[0m \u001b[38;5;28;01mtry\u001b[39;00m:\n\u001b[1;32m     11\u001b[0m     do_return \u001b[38;5;241m=\u001b[39m \u001b[38;5;28;01mTrue\u001b[39;00m\n\u001b[0;32m---> 12\u001b[0m     retval_ \u001b[38;5;241m=\u001b[39m ag__\u001b[38;5;241m.\u001b[39mconverted_call(ag__\u001b[38;5;241m.\u001b[39mld(tf)\u001b[38;5;241m.\u001b[39mlosses\u001b[38;5;241m.\u001b[39mmean_squared_error, (ag__\u001b[38;5;241m.\u001b[39mld(y_true), ag__\u001b[38;5;241m.\u001b[39mld(y_pred)), \u001b[38;5;28;01mNone\u001b[39;00m, fscope)\n\u001b[1;32m     13\u001b[0m \u001b[38;5;28;01mexcept\u001b[39;00m:\n\u001b[1;32m     14\u001b[0m     do_return \u001b[38;5;241m=\u001b[39m \u001b[38;5;28;01mFalse\u001b[39;00m\n",
      "\u001b[0;31mAttributeError\u001b[0m: in user code:\n\n    File \"/tmp/ipykernel_75854/2953848132.py\", line 3, in mse  *\n        return tf.losses.mean_squared_error(y_true,y_pred)\n\n    AttributeError: module 'keras._tf_keras.keras.losses' has no attribute 'mean_squared_error'\n"
     ]
    }
   ],
   "source": [
    "epochs = 5000\n",
    "display_step = 1000\n",
    "\n",
    "for epoch in range(epochs):\n",
    "    \n",
    "    if((epoch%display_step)==0):\n",
    "        pred = sinusoidal_model(xarr)\n",
    "        loss = mse(yarr,pred)\n",
    "        \n",
    "        print(f'Epoch {epoch} | Loss {loss.numpy()}, A: {A_fit.numpy()} f: {f_fit.numpy()} p: {p_fit.numpy()}')\n",
    "        \n",
    "    with tf.GradientTape() as g:\n",
    "        pred = sinusoidal_model(xarr)\n",
    "        loss = mse(pred,yarr)\n",
    "              \n",
    "    gradients = g.gradient(loss, [A_fit,f_fit,p_fit])\n",
    "              \n",
    "    optimizer.apply_gradients(zip(gradients,[A_fit,f_fit,p_fit]))\n",
    "print(f'Epoch {epoch} | Loss {loss.numpy()}, A: {A_fit.numpy()} f: {f_fit.numpy()} p: {p_fit.numpy()}')\n",
    "print(\"Done!\")"
   ]
  },
  {
   "cell_type": "code",
   "execution_count": null,
   "id": "7cfd7de1-4afe-4be2-89a2-9f557293936e",
   "metadata": {
    "tags": []
   },
   "outputs": [],
   "source": [
    "x_model = np.sort(x)\n",
    "y_model = sinusoid(x_model,A_fit,f_fit,p_fit)\n",
    "y_err = np.full(82,3) # 3 inches, 1/4th of a foot."
   ]
  },
  {
   "cell_type": "code",
   "execution_count": null,
   "id": "d7249ce2-97a7-4840-80fe-ea8fc4414daa",
   "metadata": {
    "tags": []
   },
   "outputs": [],
   "source": [
    "matplotlib.rcParams['font.family'] = ['Family1','serif','Family2']\n",
    "matplotlib.rcParams['text.usetex'] = 'True'\n",
    "\n",
    "f,ax = plt.subplots(1,1,figsize=(21,7))\n",
    "for tick in ax.xaxis.get_ticklabels():\n",
    "    tick.set_fontsize(10)\n",
    "for tick in ax.yaxis.get_ticklabels():\n",
    "    tick.set_fontsize(10)\n",
    "ax.errorbar(xarr,yarr,y_err,fmt='o',label='Data')\n",
    "ax.plot(x_model,y_model,color='magenta',label='Best-fit Model')\n",
    "plt.xticks(np.arange(0, 44, 1))\n",
    "plt.savefig(\"groupProject.jpg\",bbox_inches=\"tight\",facecolor=\"white\")\n",
    "ax.text(0.5,1.2,r'$\\sigma = 1$',color='0', fontsize=12)\n",
    "ax.set_xlabel('x',fontsize=15)\n",
    "ax.set_ylabel('y',fontsize=15)\n",
    "plt.legend(frameon=False,fontsize=20,handletextpad=0)"
   ]
  },
  {
   "cell_type": "markdown",
   "id": "3c92d32b-300e-4a7a-bd3a-c2cb90ffd8ac",
   "metadata": {},
   "source": [
    "### To prevent me from further losing my mind, I have decided to stop at 3. I've ran through multiple different equations and values, and I've spent over 10 hours on this problem alone. Forgive me."
   ]
  },
  {
   "cell_type": "code",
   "execution_count": 22,
   "id": "4ae83fad-108f-49ab-ae88-c2a97e20e87a",
   "metadata": {},
   "outputs": [
    {
     "name": "stdout",
     "output_type": "stream",
     "text": [
      "tf.Tensor(\n",
      "[ 1.9650226  -2.785386    0.7538538  -4.2290416   0.9847145  -3.6626487\n",
      "  0.53888583 -3.0259955   0.8230567  -2.9242716   0.976112   -0.7123019\n",
      "  1.1380347   0.634567    1.0276761   0.452626    2.1170144   1.6381646\n",
      "  1.1713328   1.8979096   0.8835554   0.76855314  1.1134024   0.17152166\n",
      "  1.4132872  -1.2806604   0.56922436 -2.5165296   0.21602678 -3.7660098\n",
      "  1.7327051  -3.1240735   0.22996044 -3.024848    0.8834624  -2.7604914\n",
      "  1.2593887  -0.5492244   1.6044257   0.10990024  1.135689    0.6046144\n",
      "  1.7572868   1.3090432   2.178193    1.9141353   0.8035271   1.0407503\n",
      "  0.6485877   0.5375273   0.15480947 -0.36026073 -0.5825448  -0.93121123\n",
      "  0.750607   -2.5206995   1.5492454  -2.8556244   1.6225171  -2.395326\n",
      "  2.277969   -3.6263752   2.125791   -2.4790974   1.6439357  -1.1365631\n",
      "  2.3746881  -0.22895396  1.0201042  -0.20461571  2.05915    -0.15645048\n",
      "  2.3481913   1.0719013   0.8887899  -0.20943856  0.01172757  0.19055486\n",
      "  1.0174179  -0.9692497  -0.08239841 -1.1460218 ], shape=(82,), dtype=float32)\n",
      "82\n",
      "[ 3.160726   -4.168053    1.2891273  -6.0679655   0.78521824 -5.882996\n",
      " -0.34107685 -5.4743958  -0.61485386 -5.41006    -0.84211206 -3.0560703\n",
      " -0.9282259  -1.4342847   1.3824131  -1.2774992   2.621928    0.2429297\n",
      "  1.7245643   0.6427784   1.3799977  -0.945732    1.4780107  -1.913528\n",
      "  1.615982   -3.6078663   0.6380167  -4.9473763   0.19953728 -6.1740093\n",
      "  1.6923723  -5.4178014   0.18255663 -5.174993    0.7968464  -4.8173103\n",
      "  1.0262117  -2.6380284   1.0771744  -2.1667614   0.12708831 -1.9979502\n",
      "  0.11831665 -1.6870625   1.1393261  -1.4336616  -0.5130329  -2.4732432\n",
      " -0.73796415 -1.6818995  -1.0125332  -2.7516868  -1.2667718  -3.1516593\n",
      "  0.7028909  -4.3307066   2.1336503  -4.2132807   2.6652393  -3.4564595\n",
      "  3.4553127  -4.674569    3.0316825  -3.8836923   1.8672252  -3.2311342\n",
      "  1.6125579  -3.2035637  -0.86512184 -4.0524898  -0.36214232 -4.6482897\n",
      " -0.4146557  -3.6462846  -1.7612813  -2.682313   -2.0078099  -2.0327637\n",
      "  0.05092525 -2.5454218   0.19333935 -1.8727987 ]\n"
     ]
    },
    {
     "data": {
      "image/png": "[encoded data removed]",
      "text/plain": [
       "<Figure size 640x480 with 1 Axes>"
      ]
     },
     "metadata": {},
     "output_type": "display_data"
    }
   ],
   "source": [
    "# xarr = time\n",
    "points = sinusoidal_model(xarr)\n",
    "difference = yarr - points\n",
    "print(difference)\n",
    "print(len(difference))\n",
    "# -----------Histogram------------------\n",
    "width = 0.5\n",
    "histmin = np.floor(min(difference))\n",
    "histmax = np.ceil(max(difference)) + width\n",
    "bins = np.arange(histmin, histmax, width)\n",
    "plt.hist(difference, bins = bins, alpha = 0.5, edgecolor = \"black\")\n",
    "plt.ylabel(\"Y\")\n",
    "plt.xlabel(\"X\")\n",
    "\n",
    "\n",
    "#-------------------------- \n",
    "idx_model = np.argsort(xarr)\n",
    "y_data = np.array(yarr)[idx_model]\n",
    "y_model = sinusoid(x[idx_model],A_fit,f_fit,p_fit)\n",
    "\n",
    "residuals = y_data - y_model\n",
    "residuals = residuals.numpy()\n",
    "print(residuals)"
   ]
  },
  {
   "cell_type": "code",
   "execution_count": null,
   "id": "3453de95-8d53-4ac3-92a0-0747a793f537",
   "metadata": {},
   "outputs": [],
   "source": [
    "matplotlib.rcParams['font.family'] = ['Family1','serif','Family2']\n",
    "matplotlib.rcParams['text.usetex'] = 'True'\n",
    "\n",
    "f,ax = plt.subplots(1,1,figsize=(21,7))\n",
    "for tick in ax.xaxis.get_ticklabels():\n",
    "    tick.set_fontsize(10)\n",
    "for tick in ax.yaxis.get_ticklabels():\n",
    "    tick.set_fontsize(10)\n",
    "ax.errorbar(xarr,residuals,y_err,fmt='o',label='Data')\n",
    "ax.set_xlim([-0.1,44.1])\n",
    "ax.set_ylim([-8.,8])\n",
    "ax.text(0.5,1.2,r'$\\sigma = 1$',color='0', fontsize=12)\n",
    "ax.set_xlabel('x',fontsize=15)\n",
    "ax.set_ylabel('y',fontsize=15)\n",
    "plt.legend(frameon=False,fontsize=20,handletextpad=0)"
   ]
  },
  {
   "cell_type": "code",
   "execution_count": null,
   "id": "d019bdf2-ea49-43c2-abb8-657cc320dbd6",
   "metadata": {},
   "outputs": [],
   "source": [
    "\n",
    "idx_model = np.argsort(xarr)\n",
    "y_data = np.array(yarr)[idx_model]\n",
    "y_model = sinusoid(np.array(xarr)[idx_model],A_fit,f_fit,p_fit)\n",
    "\n",
    "residuals = y_data - y_model\n",
    "residuals = residuals.numpy()"
   ]
  },
  {
   "cell_type": "code",
   "execution_count": null,
   "id": "db653ae8-08cd-4bc7-b4d9-70157a52fa5f",
   "metadata": {},
   "outputs": [],
   "source": [
    "residual_mean = np.mean(residuals)\n",
    "residual_std = np.std(residuals)\n",
    "print(f'Mean Residual is {residual_mean}.')\n",
    "print(f'RMS Residual is {residual_std}.')"
   ]
  },
  {
   "cell_type": "code",
   "execution_count": null,
   "id": "cc12ab9a-5b7f-4a86-9e1b-3aed93788fc5",
   "metadata": {},
   "outputs": [],
   "source": [
    "def gaussian(x,mu,s):\n",
    "    return 1./(2.*np.pi*s**2)**0.5 * np.exp(-0.5*((x-mu)/s)**2)"
   ]
  },
  {
   "cell_type": "code",
   "execution_count": null,
   "id": "049946da-189b-4c2e-8b10-f54062d1920f",
   "metadata": {},
   "outputs": [],
   "source": [
    "matplotlib.rcParams['font.family'] = ['Family1','serif','Family2']\n",
    "matplotlib.rcParams['text.usetex'] = 'True'\n",
    "\n",
    "f,ax = plt.subplots(1,1,figsize=(21,7))\n",
    "for tick in ax.xaxis.get_ticklabels():\n",
    "    tick.set_fontsize(10)\n",
    "for tick in ax.yaxis.get_ticklabels():\n",
    "    tick.set_fontsize(10)\n",
    "    \n",
    "print(len(residuals))\n",
    "ax.hist(residuals,bins=30,range=(-0.75,0.75),alpha=0.5,edgecolor='white',density=True)\n",
    "\n",
    "x_g = np.linspace(-5*residual_std,5*residual_std,1000)\n",
    "ax.plot(x_g,gaussian(x_g,residual_mean,residual_std),color=\"red\")\n",
    "ax.set_xlim([-2,2])\n",
    "ax.text(0.5,1.2,r'$\\sigma = 1$',color='0', fontsize=12)\n",
    "ax.set_xlabel('x',fontsize=15)\n",
    "ax.set_ylabel('N(x)',fontsize=15)"
   ]
  },
  {
   "cell_type": "code",
   "execution_count": null,
   "id": "fb4d32bd-9990-4580-884d-d7e8dc027567",
   "metadata": {},
   "outputs": [],
   "source": []
  },
  {
   "cell_type": "code",
   "execution_count": null,
   "id": "314f9f93-ee52-4b0d-a1a8-bc97dbdb7e5e",
   "metadata": {},
   "outputs": [],
   "source": []
  }
 ],
 "metadata": {
  "kernelspec": {
   "display_name": "ASTR 19",
   "language": "python",
   "name": "astr19"
  },
  "language_info": {
   "codemirror_mode": {
    "name": "ipython",
    "version": 3
   },
   "file_extension": ".py",
   "mimetype": "text/x-python",
   "name": "python",
   "nbconvert_exporter": "python",
   "pygments_lexer": "ipython3",
   "version": "3.10.12"
  }
 },
 "nbformat": 4,
 "nbformat_minor": 5
}
